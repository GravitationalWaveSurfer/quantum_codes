{
 "cells": [
  {
   "cell_type": "markdown",
   "id": "3e6f35a0",
   "metadata": {},
   "source": [
    "# Introduction to State Vectors\n",
    "\n",
    "In this example, we show the user how to define a state vectors using IBM's `Qiskit` library. We also show how to access the state vector properties, represent it in the ket-bra notation and carry out operations. As a starting point, we import the required libraries:"
   ]
  },
  {
   "cell_type": "code",
   "execution_count": 241,
   "id": "164a4c50",
   "metadata": {},
   "outputs": [],
   "source": [
    "from numpy import array, matmul, sqrt\n",
    "from qiskit.quantum_info import Statevector\n",
    "from qiskit.visualization import plot_histogram"
   ]
  },
  {
   "cell_type": "markdown",
   "id": "5f1910fd",
   "metadata": {},
   "source": [
    "We can visualize state vectors as the vectors of coefficients for the two **standard basis** states $|0\\rangle$ and $|1\\rangle$.\n"
   ]
  },
  {
   "cell_type": "code",
   "execution_count": 25,
   "id": "161c0e34",
   "metadata": {},
   "outputs": [
    {
     "name": "stdout",
     "output_type": "stream",
     "text": [
      "The zero ket is:\n"
     ]
    },
    {
     "data": {
      "text/plain": [
       "array([1, 0])"
      ]
     },
     "metadata": {},
     "output_type": "display_data"
    }
   ],
   "source": [
    "ket0 = array([1, 0])\n",
    "\n",
    "print('The zero ket is:')\n",
    "display(ket0)"
   ]
  },
  {
   "cell_type": "markdown",
   "id": "cac968d7",
   "metadata": {},
   "source": [
    "Matrix multiplication can be carried-out using the `matmul` function from the `NumPy` library."
   ]
  },
  {
   "cell_type": "code",
   "execution_count": 18,
   "id": "a7973cde",
   "metadata": {},
   "outputs": [
    {
     "data": {
      "text/plain": [
       "array([0, 1])"
      ]
     },
     "metadata": {},
     "output_type": "display_data"
    }
   ],
   "source": [
    "M = array([[0,1],[1,0]])      # multiplication matrix\n",
    "display(matmul(M, ket0))"
   ]
  },
  {
   "cell_type": "markdown",
   "id": "29a6e72f",
   "metadata": {},
   "source": [
    "Qiskit allows us to define any state vector of the form $|\\psi\\rangle = c_0|0\\rangle + c_1|1\\rangle$, we show an example involving the $|+\\rangle$ and $|-\\rangle$:"
   ]
  },
  {
   "cell_type": "code",
   "execution_count": 72,
   "id": "0a96815e",
   "metadata": {},
   "outputs": [],
   "source": [
    "psi_plus = Statevector([1 / sqrt(2), 1 / sqrt(2)])\n",
    "psi_minus = Statevector([1 / sqrt(2), -1 / sqrt(2)])"
   ]
  },
  {
   "cell_type": "markdown",
   "id": "adfb53ab",
   "metadata": {},
   "source": [
    "It also offers a straightforward way to represent them in LaTex:"
   ]
  },
  {
   "cell_type": "code",
   "execution_count": 73,
   "id": "71a7537a",
   "metadata": {},
   "outputs": [
    {
     "data": {
      "text/latex": [
       "$$\\frac{\\sqrt{2}}{2} |0\\rangle+\\frac{\\sqrt{2}}{2} |1\\rangle$$"
      ],
      "text/plain": [
       "<IPython.core.display.Latex object>"
      ]
     },
     "execution_count": 73,
     "metadata": {},
     "output_type": "execute_result"
    }
   ],
   "source": [
    "psi_plus.draw('latex')         # try with psi_minus"
   ]
  },
  {
   "cell_type": "markdown",
   "id": "e7fd9e8b",
   "metadata": {},
   "source": [
    "The squared norm of the coefficients of a state vector has to be equal to unity for the vector to be a valid one. You can check after initializing, through the `.isvalid()` method. In the example below the state vector has unphysical value for the norm:"
   ]
  },
  {
   "cell_type": "code",
   "execution_count": 74,
   "id": "1de47a25",
   "metadata": {},
   "outputs": [
    {
     "data": {
      "text/plain": [
       "False"
      ]
     },
     "execution_count": 74,
     "metadata": {},
     "output_type": "execute_result"
    }
   ],
   "source": [
    "u = Statevector([1/2, 3j])\n",
    "u.is_valid()"
   ]
  },
  {
   "cell_type": "markdown",
   "id": "168295f9",
   "metadata": {},
   "source": [
    "We can inspect the probability that a standard basis measurement yields one of the two orthonormal basis states with the `probabilities()` or `probabilities_dict()` methods; the latter produces a dictionary with the '0' and '1' keys. The outputs are the squared coefficients ( $p_i = c_i^2$ for $i=0,1$ ) that characterize the wave function. "
   ]
  },
  {
   "cell_type": "code",
   "execution_count": 77,
   "id": "84fa0ecc",
   "metadata": {},
   "outputs": [
    {
     "data": {
      "text/plain": [
       "{'0': 0.4999999999999999, '1': 0.4999999999999999}"
      ]
     },
     "execution_count": 77,
     "metadata": {},
     "output_type": "execute_result"
    }
   ],
   "source": [
    "psi_minus.probabilities()                \n",
    "psi_minus.probabilities_dict()           # comment to see as arrays   "
   ]
  },
  {
   "cell_type": "markdown",
   "id": "f9f4a1cf",
   "metadata": {},
   "source": [
    "Two state vectors that differ by a global phase are considered equivalent. We can check this directly with the `Qiskit` library. The `measure()` method output will produce a random measurement of the state introducing a global phase."
   ]
  },
  {
   "cell_type": "code",
   "execution_count": 221,
   "id": "4a9d76cf",
   "metadata": {},
   "outputs": [
    {
     "data": {
      "text/latex": [
       "$$\\frac{\\sqrt{10}}{10} |0\\rangle+(\\frac{\\sqrt{10}}{10} + \\frac{2 \\sqrt{5} i}{5}) |1\\rangle$$"
      ],
      "text/plain": [
       "<IPython.core.display.Latex object>"
      ]
     },
     "execution_count": 221,
     "metadata": {},
     "output_type": "execute_result"
    }
   ],
   "source": [
    "v = Statevector([1/sqrt(10),1/sqrt(10)+sqrt(4/5)*1j])\n",
    "v.draw('latex')"
   ]
  },
  {
   "cell_type": "markdown",
   "id": "1dcaae1d",
   "metadata": {},
   "source": [
    "The `.measure()` method outputs the standard basis state label and associated state vector, which we can test for equivalence with the original vector:"
   ]
  },
  {
   "cell_type": "code",
   "execution_count": 222,
   "id": "e1908ce4",
   "metadata": {},
   "outputs": [
    {
     "data": {
      "text/latex": [
       "$$ |0\\rangle$$"
      ],
      "text/plain": [
       "<IPython.core.display.Latex object>"
      ]
     },
     "execution_count": 222,
     "metadata": {},
     "output_type": "execute_result"
    }
   ],
   "source": [
    "v_measured = v.measure()\n",
    "v_measured[1].draw('latex')"
   ]
  },
  {
   "cell_type": "code",
   "execution_count": 223,
   "id": "6c18f27a",
   "metadata": {},
   "outputs": [
    {
     "name": "stdout",
     "output_type": "stream",
     "text": [
      "The standard basis measurements yields the 0 state\n"
     ]
    }
   ],
   "source": [
    "if v_measured[1].equiv(Statevector([1,0])):\n",
    "    print('The standard basis measurements yields the 0 state')\n",
    "else:\n",
    "    print('The standard basis measurements yields the 1 state')"
   ]
  },
  {
   "cell_type": "markdown",
   "id": "f563827b",
   "metadata": {},
   "source": [
    "We will see in another notebook how to evolve a state vector by applying an operator."
   ]
  },
  {
   "cell_type": "markdown",
   "id": "f3f2c05d",
   "metadata": {},
   "source": [
    "## Multiple qubit state vector"
   ]
  },
  {
   "cell_type": "markdown",
   "id": "b230cd13",
   "metadata": {},
   "source": [
    "It is useful to know that we can also define multiple qubit systems with the `Statevector` object. Since the probabilities of a measurement have to sum up to one, the `is_valid()` method adjusts accordingly. "
   ]
  },
  {
   "cell_type": "code",
   "execution_count": 224,
   "id": "400f245c",
   "metadata": {},
   "outputs": [
    {
     "data": {
      "text/plain": [
       "True"
      ]
     },
     "execution_count": 224,
     "metadata": {},
     "output_type": "execute_result"
    }
   ],
   "source": [
    "psi_system = Statevector([1/sqrt(12),1/sqrt(12),2/sqrt(6),1/sqrt(6)])\n",
    "psi_system.is_valid()"
   ]
  },
  {
   "cell_type": "code",
   "execution_count": 229,
   "id": "38c2c603",
   "metadata": {},
   "outputs": [
    {
     "data": {
      "text/latex": [
       "$$\\frac{\\sqrt{3}}{6} |00\\rangle+\\frac{\\sqrt{3}}{6} |01\\rangle+\\frac{\\sqrt{6}}{3} |10\\rangle+\\frac{\\sqrt{6}}{6} |11\\rangle$$"
      ],
      "text/plain": [
       "<IPython.core.display.Latex object>"
      ]
     },
     "execution_count": 229,
     "metadata": {},
     "output_type": "execute_result"
    }
   ],
   "source": [
    "psi_system.draw('latex')"
   ]
  },
  {
   "cell_type": "markdown",
   "id": "7a5ba33c",
   "metadata": {},
   "source": [
    "The number of qubits for the state vectors defined up to now should be obvious, but we can check this directly by assessing the property:"
   ]
  },
  {
   "cell_type": "code",
   "execution_count": 230,
   "id": "3986fa79",
   "metadata": {},
   "outputs": [
    {
     "data": {
      "text/plain": [
       "(2, 1)"
      ]
     },
     "execution_count": 230,
     "metadata": {},
     "output_type": "execute_result"
    }
   ],
   "source": [
    "psi_system.num_qubits, psi_plus.num_qubits"
   ]
  },
  {
   "cell_type": "markdown",
   "id": "9ef7677f",
   "metadata": {},
   "source": [
    "Let's see the output of a measurement for the 2-qubit system:"
   ]
  },
  {
   "cell_type": "code",
   "execution_count": 239,
   "id": "8c3b18a7",
   "metadata": {},
   "outputs": [
    {
     "data": {
      "text/plain": [
       "('11',\n",
       " Statevector([0.+0.j, 0.+0.j, 0.+0.j, 1.+0.j],\n",
       "             dims=(2, 2)))"
      ]
     },
     "execution_count": 239,
     "metadata": {},
     "output_type": "execute_result"
    }
   ],
   "source": [
    "psi_system.measure()"
   ]
  },
  {
   "cell_type": "code",
   "execution_count": 240,
   "id": "4fc2b600",
   "metadata": {},
   "outputs": [
    {
     "data": {
      "text/latex": [
       "$$ |10\\rangle$$"
      ],
      "text/plain": [
       "<IPython.core.display.Latex object>"
      ]
     },
     "execution_count": 240,
     "metadata": {},
     "output_type": "execute_result"
    }
   ],
   "source": [
    "Statevector.draw(psi_system.measure()[1], 'latex')"
   ]
  },
  {
   "cell_type": "markdown",
   "id": "a1567364",
   "metadata": {},
   "source": [
    "Finally, we show how to carry out multiple measurements to recover the probabilities described by the state vector.  This can be achieved using the `sample_counts()` method and representing the outputs in a histogram:"
   ]
  },
  {
   "cell_type": "code",
   "execution_count": 246,
   "id": "c7e8469c",
   "metadata": {},
   "outputs": [
    {
     "data": {
      "image/png": "[encoded data removed]",
      "text/plain": [
       "<Figure size 504x360 with 1 Axes>"
      ]
     },
     "execution_count": 246,
     "metadata": {},
     "output_type": "execute_result"
    }
   ],
   "source": [
    "measurements = psi_system.sample_counts(10000)\n",
    "plot_histogram(measurements, title=r'Measurement statistics for $|\\psi_{system}\\rangle$')"
   ]
  },
  {
   "cell_type": "markdown",
   "id": "57da3597",
   "metadata": {},
   "source": [
    "You can check by yourselves that the individual measurement probabilities are recovered as the number of measurements increases!"
   ]
  }
 ],
 "metadata": {
  "kernelspec": {
   "display_name": "Python 3 (ipykernel)",
   "language": "python",
   "name": "python3"
  },
  "language_info": {
   "codemirror_mode": {
    "name": "ipython",
    "version": 3
   },
   "file_extension": ".py",
   "mimetype": "text/x-python",
   "name": "python",
   "nbconvert_exporter": "python",
   "pygments_lexer": "ipython3",
   "version": "3.9.12"
  }
 },
 "nbformat": 4,
 "nbformat_minor": 5
}
